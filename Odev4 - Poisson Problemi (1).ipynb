{
 "cells": [
  {
   "cell_type": "markdown",
   "metadata": {},
   "source": [
    "## ÖDEV4 - POISSON Dağılımı İle Problem Çözme\n",
    "### SİNEM SEÇGİN OLGUN \n",
    "\n"
   ]
  },
  {
   "cell_type": "markdown",
   "metadata": {},
   "source": [
    "Soru:\n",
    "\n",
    "Bir bankaya bir saatte gelen müşteri sayısının ortalaması 3 olan Poisson dağılımına sahip olduğu biliniyor. \n",
    "\n",
    "a)Bu bankaya 1 saatte en az 2 müşteri gelme olasılığı nedir?\n",
    "\n",
    "b) Hiç kimsenin gelmemesi olasılığı nedir?\n",
    "\n",
    "c) Bu bankaya 1 saatte en az 1 müşteri gelme olasılığı nedir?"
   ]
  },
  {
   "cell_type": "code",
   "execution_count": 2,
   "metadata": {},
   "outputs": [],
   "source": [
    "import numpy as np\n",
    "import math"
   ]
  },
  {
   "cell_type": "code",
   "execution_count": 3,
   "metadata": {},
   "outputs": [],
   "source": [
    "def faktoriyelHesapla(x): # Faktoriyel Hesap Kodu\n",
    "    if x==1:       \n",
    "        return 1\n",
    "    if x==0:\n",
    "        return 1\n",
    "    \n",
    "    else: \n",
    "        return x * faktoriyelHesapla(x-1)"
   ]
  },
  {
   "cell_type": "code",
   "execution_count": 4,
   "metadata": {},
   "outputs": [],
   "source": [
    "def Poisson(lamdaA,x):\n",
    "   return math.exp(-lamdaA)*pow(lamdaA,x)/faktoriyelHesapla(x)"
   ]
  },
  {
   "cell_type": "code",
   "execution_count": 5,
   "metadata": {},
   "outputs": [
    {
     "name": "stdout",
     "output_type": "stream",
     "text": [
      " 1 saatte en az 2 müşteri gelme olasılığı :  0.8008517265285442\n"
     ]
    }
   ],
   "source": [
    "# A)Bu bankaya 1 saatte en az 2 müşteri gelme olasılığı nedir?\n",
    "\n",
    "A=1-(Poisson(3,1)+Poisson(3,0)) \n",
    "print(\" 1 saatte en az 2 müşteri gelme olasılığı : \",A)\n"
   ]
  },
  {
   "cell_type": "code",
   "execution_count": 6,
   "metadata": {},
   "outputs": [
    {
     "name": "stdout",
     "output_type": "stream",
     "text": [
      "Hiç kimsenin gelmemesi olasılığı:  0.049787068367863944\n"
     ]
    }
   ],
   "source": [
    "# B) Hiç kimsenin gelmemesi olasılığı nedir?\n",
    "B=Poisson(3,0)\n",
    "print(\"Hiç kimsenin gelmemesi olasılığı: \",B)\n"
   ]
  },
  {
   "cell_type": "code",
   "execution_count": 7,
   "metadata": {},
   "outputs": [
    {
     "name": "stdout",
     "output_type": "stream",
     "text": [
      "1 saatte  1 müşteri gelme olasılığı :  0.14936120510359183\n"
     ]
    }
   ],
   "source": [
    "# C) Bu bankaya 1 saatte  1 müşteri gelme olasılığı nedir?\n",
    "C=Poisson(3,1)\n",
    "print(\"1 saatte  1 müşteri gelme olasılığı : \",C)"
   ]
  },
  {
   "cell_type": "code",
   "execution_count": null,
   "metadata": {},
   "outputs": [],
   "source": []
  }
 ],
 "metadata": {
  "kernelspec": {
   "display_name": "Python 3",
   "language": "python",
   "name": "python3"
  },
  "language_info": {
   "codemirror_mode": {
    "name": "ipython",
    "version": 3
   },
   "file_extension": ".py",
   "mimetype": "text/x-python",
   "name": "python",
   "nbconvert_exporter": "python",
   "pygments_lexer": "ipython3",
   "version": "3.7.1"
  }
 },
 "nbformat": 4,
 "nbformat_minor": 2
}
