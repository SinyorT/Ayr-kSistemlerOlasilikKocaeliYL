{
 "cells": [
  {
   "cell_type": "markdown",
   "metadata": {},
   "source": [
    "Ödev 1: Herhangi bir permütasyon örneğini pyhton kullanarak  raporu oluşturulacak.\n"
    "\n",
    "# SİNEM SEÇGİN OLGUN - 185172017\n",
    "\n",
    "# PERMUTASYON\n",
    "\n",
    "n elemanlı bir A kümesinin birbirinden farklı r elemanının her bir sıralanışına A kümesinin r'li permutasyonu denir.\n",
    "\n",
    "P(n,r) = n! / (n-r)!\n",
    "formülü ile hesaplanır.\n",
    "\n",
    "Örnek: 20 Kişilik bir tiyatro kulübünde tiyatro seçmeleri için 7 kişilik seçme kaç farklı şekilde olur? Çözüm: P(20,7) = 20! / (20-7)!\n",
    "\n",
    "        P(20,7) formülü ile farklı sıralama yapılabilir."
   ]
  },
  {
   "cell_type": "code",
   "execution_count": 1,
   "metadata": {},
   "outputs": [
    {
     "name": "stdout",
     "output_type": "stream",
     "text": [
      "Sonuç: 390700800.0\n"
     ]
    }
   ],
   "source": [
    "from pylab import*\n",
    "import numpy as np\n",
    "#Faktöriyel hesabı için fonksiyon\n",
    "def faktoriyel(x):\n",
    "  sonuc=1\n",
    "  for i in range(x):\n",
    "    sonuc=sonuc*(i+1)\n",
    "  return sonuc\n",
    "\n",
    "#Permutasyon hesabı için fonksiyon\n",
    "def permutasyon(n,r):\n",
    "  P=0\n",
    "  if r>n:\n",
    "    P=1\n",
    "  else:\n",
    "    P= faktoriyel(n)/faktoriyel(n-r)\n",
    "  return P\n",
    "#Tiyatro kulübündeki kişi sayısı\n",
    "TiyatroKisiSayisi= 20\n",
    "#Oyun İçin seçilecek kişi sayısı\n",
    "SecilecekKisi= 7\n",
    "\n",
    "print(\"Sonuç:\",permutasyon(TiyatroKisiSayisi,SecilecekKisi))"
   ]
  },
  {
   "cell_type": "code",
   "execution_count": null,
   "metadata": {},
   "outputs": [],
   "source": []
  }
 ],
 "metadata": {
  "kernelspec": {
   "display_name": "Python 3",
   "language": "python",
   "name": "python3"
  },
  "language_info": {
   "codemirror_mode": {
    "name": "ipython",
    "version": 3
   },
   "file_extension": ".py",
   "mimetype": "text/x-python",
   "name": "python",
   "nbconvert_exporter": "python",
   "pygments_lexer": "ipython3",
   "version": "3.7.1"
  }
 },
 "nbformat": 4,
 "nbformat_minor": 2
}
