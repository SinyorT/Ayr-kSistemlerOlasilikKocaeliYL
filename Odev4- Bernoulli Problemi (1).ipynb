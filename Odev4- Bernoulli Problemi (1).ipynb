{
 "cells": [
  {
   "cell_type": "markdown",
   "metadata": {},
   "source": [
    "# ÖDEV 4 - Binomial Dağılım Ödevi "
   ]
  },
  {
   "cell_type": "markdown",
   "metadata": {},
   "source": [
    "# Sinem Seçgin Olgun 185172017"
   ]
  },
  {
   "cell_type": "markdown",
   "metadata": {},
   "source": [
    "Soru: Bir Tepside bulunan  50 poğaçadan 15 tanesi kıymalıdır. Ofis kahvaltısında ortaya koyarak 10 kişi random şekilde poğaçadan yemek için aldığında 5 tanesinin kıymalı poğaça olması olasılığı nedir?\n",
    "\n",
    "Çözüm:\n",
    "\n",
    "X: Çekilen poğaça kıymalı olması\n",
    "\n",
    "c = 1/2 # kıymalı olma olasılığı\n",
    "\n",
    "b=10 # tepsiden alınan poğaça sayısı\n",
    "\n",
    "a=5 # alınması istenen poğaça sayısı"
   ]
  },
  {
   "cell_type": "code",
   "execution_count": 23,
   "metadata": {},
   "outputs": [],
   "source": [
    "import numpy as np\n",
    "import math"
   ]
  },
  {
   "cell_type": "code",
   "execution_count": 24,
   "metadata": {},
   "outputs": [],
   "source": [
    "def faktoriyelHesapla(x): # Faktoriyel Hesap Fonksiyonu\n",
    "    if x==1:       \n",
    "        return 1\n",
    "    \n",
    "    else: \n",
    "        return x * faktoriyelHesapla(x-1)"
   ]
  },
  {
   "cell_type": "code",
   "execution_count": 27,
   "metadata": {},
   "outputs": [],
   "source": [
    "def Bernoulli(a,b,c): # Bernoulli Fonksiyonu\n",
    "    \n",
    "  aa =faktoriyelHesapla(b)\n",
    "\n",
    "  ba=faktoriyelHesapla(a)\n",
    "    \n",
    "  ca=faktoriyelHesapla(b-a)\n",
    "\n",
    "  possionResult=  pow(c,a)*pow(1-c,b-a)\n",
    "    \n",
    "  return aa/(ba*ca)*possionResult\n",
    "\n"
   ]
  },
  {
   "cell_type": "code",
   "execution_count": 28,
   "metadata": {},
   "outputs": [
    {
     "name": "stdout",
     "output_type": "stream",
     "text": [
      "Bernoulli Hesabına Göre 5 tanesinin kıymalı poğaça olma olasılığı : 0.24609375\n"
     ]
    }
   ],
   "source": [
    "\n",
    "c = 1/2 # Kıymalı börek olma olasılığı\n",
    "b=10 # Toplam kıymalı börek sayısı\n",
    "a=5 # Tepsiden alınan börek sayısı\n",
    "a= Bernoulli(a,b,c) \n",
    "print(\"Bernoulli Hesabına Göre 5 tanesinin kıymalı poğaça olma olasılığı :\",a)"
   ]
  },
  {
   "cell_type": "code",
   "execution_count": null,
   "metadata": {},
   "outputs": [],
   "source": []
  }
 ],
 "metadata": {
  "kernelspec": {
   "display_name": "Python 3",
   "language": "python",
   "name": "python3"
  },
  "language_info": {
   "codemirror_mode": {
    "name": "ipython",
    "version": 3
   },
   "file_extension": ".py",
   "mimetype": "text/x-python",
   "name": "python",
   "nbconvert_exporter": "python",
   "pygments_lexer": "ipython3",
   "version": "3.7.1"
  }
 },
 "nbformat": 4,
 "nbformat_minor": 2
}
