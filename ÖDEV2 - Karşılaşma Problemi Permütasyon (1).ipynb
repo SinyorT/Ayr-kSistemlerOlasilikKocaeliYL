{
 "cells": [
  {
   "cell_type": "markdown",
   "metadata": {},
   "source": [
    "# Karşılaşma Problemi Örnek : "
   ]
  },
  {
   "cell_type": "markdown",
   "metadata": {},
   "source": [
    "Bir sitenin içerisinde bulunan markete günde 5000 kişi alışveriş yapmak için geliyor. \n",
    "Gelen kişilerin %40'ı alışveriş sonundaki indirimi almak istiyor. Sabah saatlerinde markete 150 kişi geliyor. Sabah saatlerinde markete gelenlerden kendi apartmanınızdaki kişiyle karşılaşma olasılığımız nedir? \n",
    "p (Toplam Kişi) = 5000 s \n",
    "(Sabah saatleri kişi sayısı) = 150 \n",
    "f (İndirim Almak İsteyen Kişi Sayısı) = 5000 * 150 / 100 = 7500 \n",
    "Her kişi ile karşılaşma eşit şanslı olay olursa: 1 değerinden istenmeyen durumların gerçekleşme olasılığını çıkarırsak sonuca ulaşabiliriz. \n"
   ]
  },
  {
   "cell_type": "markdown",
   "metadata": {},
   "source": [
    "# P (İndirim Almak İsteyen Kişi Sayısı) = 1 - C (p-f,s) / C (p,s)"
   ]
  },
  {
   "cell_type": "code",
   "execution_count": 3,
   "metadata": {},
   "outputs": [
    {
     "name": "stdout",
     "output_type": "stream",
     "text": [
      "Kişi Sayısı 2000.0\n"
     ]
    }
   ],
   "source": [
    "print(\"Kişi Sayısı\",5000 * 40 / 100)"
   ]
  },
  {
   "cell_type": "code",
   "execution_count": 6,
   "metadata": {},
   "outputs": [],
   "source": [
    "def faktoriyel(sayi):\n",
    "  sonuc=1\n",
    "  for i in range(1,sayi+1):\n",
    "    sonuc=sonuc*i\n",
    "  return sonuc\n",
    "  \n",
    "def kombinasyon(n,r):\n",
    "  return faktoriyel(n)/(faktoriyel(n-r)*faktoriyel(r))"
   ]
  },
  {
   "cell_type": "code",
   "execution_count": 7,
   "metadata": {},
   "outputs": [
    {
     "name": "stdout",
     "output_type": "stream",
     "text": [
      "1.0\n"
     ]
    }
   ],
   "source": [
    "p=5000\n",
    "s=150\n",
    "f=7500\n",
    "k=p-f\n",
    "\n",
    "P=1-kombinasyon(k,s)/kombinasyon(p,s)\n",
    "print(P)"
   ]
  },
  {
   "cell_type": "markdown",
   "metadata": {},
   "source": [
    "K(n,r) kombinasyon işlemindeki n ile n-r değerleri karşılaştırırız.\n",
    "Bu değerlerden büyük olan değeri bölen değerle sadeleştirdikten sonra çarpım sonucunu hesaplatacağımız değerleri faktöriyel fonksiyonuna gönderiririz. \n",
    "Sonraki adımda ise bir önceki adımda bulmuş olduğumuz değer ile küçük olan sayının faktöriyelini birbirine böleriz."
   ]
  },
  {
   "cell_type": "code",
   "execution_count": 10,
   "metadata": {},
   "outputs": [],
   "source": [
    "\n",
    "def fakt(n,r):\n",
    "  sonuc=1\n",
    "  for i in range(r+1,n+1):\n",
    "  #r+1 den n değerine kadar faktöriyelini hesaplarız\n",
    "    sonuc=sonuc*i\n",
    "  return sonuc\n",
    "\n",
    "def komb(n,r):\n",
    "  nr=n-r\n",
    "  if nr>r:\n",
    "    K=fakt(n,nr)\n",
    "    K=K/fakt(r,1)\n",
    "  else:\n",
    "    K=fakt(n,r)\n",
    "    K=K/fakt(nr,1)\n",
    "  return K"
   ]
  },
  {
   "cell_type": "code",
   "execution_count": 11,
   "metadata": {},
   "outputs": [
    {
     "name": "stdout",
     "output_type": "stream",
     "text": [
      "252.0\n"
     ]
    }
   ],
   "source": [
    "print(komb(10,5))\n"
   ]
  },
  {
   "cell_type": "code",
   "execution_count": 13,
   "metadata": {},
   "outputs": [
    {
     "name": "stdout",
     "output_type": "stream",
     "text": [
      "1.0\n"
     ]
    }
   ],
   "source": [
    "p=5000\n",
    "s=150\n",
    "f=7500\n",
    "k=p-f\n",
    "\n",
    "P=1-komb(k,s)/komb(p,s)\n",
    "print(P)"
   ]
  },
  {
   "cell_type": "markdown",
   "metadata": {},
   "source": [
    "# Sonuç: Sabah saatlerinde Alışveriş için markete gelen site sakinlerinden  bir kişiyle karşılaşma olasılığımız 1.0 olarak bulunmuştur."
   ]
  },
  {
   "cell_type": "code",
   "execution_count": null,
   "metadata": {},
   "outputs": [],
   "source": []
  }
 ],
 "metadata": {
  "kernelspec": {
   "display_name": "Python 3",
   "language": "python",
   "name": "python3"
  },
  "language_info": {
   "codemirror_mode": {
    "name": "ipython",
    "version": 3
   },
   "file_extension": ".py",
   "mimetype": "text/x-python",
   "name": "python",
   "nbconvert_exporter": "python",
   "pygments_lexer": "ipython3",
   "version": "3.7.1"
  }
 },
 "nbformat": 4,
 "nbformat_minor": 2
}
