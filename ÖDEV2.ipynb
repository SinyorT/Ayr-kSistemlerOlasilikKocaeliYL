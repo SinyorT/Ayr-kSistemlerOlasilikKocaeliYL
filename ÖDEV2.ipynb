{
 "cells": [
  {
   "cell_type": "markdown",
   "metadata": {},
   "source": [
    "# ÖDEV 2: KARŞILAŞMA OlASILIĞI\n",
    "\n",
    "# 185172017 – Sinem Seçgin Olgun\n",
    "\n"
   ]
  },
  {
   "cell_type": "markdown",
   "metadata": {},
   "source": [
    "# ÖRNEK: Bir şirkette 400 çalışanın , 50 kişisi Ar-Ge departmanı çalışanıdır. Şirket küresel bir yarışmaya katılacaktır. Bu yarışma için 5 toplam çalışanını şirket içerisinden İnsan Kaynakları bölümü seçecektir. Seçilecek çalışanların içerisinde, insan kaynaklarının en az bir Ar-Ge çalışanını yarışmacı olarak seçmesi durumu  ile karşılaşma olasılığı nedir?\n",
    "\n"
   ]
  },
  {
   "cell_type": "markdown",
   "metadata": {},
   "source": [
    "ÇÖZÜM:\n",
    "\n",
    "Her çalışanın yarışma için seçilme olasılığı eşit olarak düşünülürse,\n",
    "      p: Toplam çalışan sayısı = 400\n",
    "      s: Seçilen çalışan sayısı = 5\n",
    "      f: Arge çalışan sayısı = 50\n",
    "\n",
    "     "
   ]
  },
  {
   "cell_type": "markdown",
   "metadata": {},
   "source": [
    " S:(Örnek uzayı) toplam şirkte çalışanı(400) Yarışmacıların seçimi(5) = C(400,5)\n",
    "      Arge çalışanı olma olasılığı: Bir arge çalışanı olabilir, 2 arge çalışanı da olabilir ya da hepsi arge çalışanı arasından seçilme ihtimali olabilir.\n",
    "      Bunlar göz önüne alındığında bakılması gereken bir çok farklı durumlar ortaya çıkıyor. Bu sebeple seçilen çalışanların hepsinin arge çalışanı olmama ve farklı departmanda olma olasılığının hesaplanıp \n",
    "      1'den cıkartıldığında en az bir yarışmacının arge çalışanı olma olasılığı bulunmaktadır.\n",
    "\n",
    "  \n"
   ]
  },
  {
   "cell_type": "markdown",
   "metadata": {},
   "source": [
    "    Bu durumuda olay E olayı uzayı;\n",
    "      E:(Olay uzayı) Arge çalışanı olmayan öğrenciler içerisinde(400-50) yarışmacı çalışanların seçimi = C(350,5)\n",
    "      P(E) = |E| / |S|\n",
    "      P = C(400,5) / C(350,5)\n",
    "      P = hepsinin arge olmama olasılığı\n",
    "      1-P = 0.4889344145525789 içlerinden en az birinin arge çalışanı olma olasılığı"
   ]
  },
  {
   "cell_type": "code",
   "execution_count": 10,
   "metadata": {},
   "outputs": [],
   "source": [
    "from pylab import*\n",
    "import numpy as np"
   ]
  },
  {
   "cell_type": "code",
   "execution_count": 4,
   "metadata": {},
   "outputs": [],
   "source": [
    "#Faktöriyel hesabı için fonksiyon\n",
    "def faktoriyel(x):\n",
    "  sonuc=1\n",
    "  for i in range(x):\n",
    "    sonuc=sonuc*(i+1)\n",
    "  return sonuc"
   ]
  },
  {
   "cell_type": "code",
   "execution_count": 5,
   "metadata": {},
   "outputs": [],
   "source": [
    "#kombinasyon hesabı için fonksiyon\n",
    "def kombinasyon(n,r):\n",
    "  C=0\n",
    "  C= faktoriyel(n)/(faktoriyel(n-r)*faktoriyel(r))\n",
    "  return C\n"
   ]
  },
  {
   "cell_type": "code",
   "execution_count": 6,
   "metadata": {},
   "outputs": [],
   "source": [
    "#toplam çalışan sayısı\n",
    "p= 400\n",
    "#seçilen yarışmacı sayısı\n",
    "s= 5\n",
    "#arge çalışan sayısı\n",
    "f= 50\n"
   ]
  },
  {
   "cell_type": "code",
   "execution_count": 7,
   "metadata": {},
   "outputs": [
    {
     "name": "stdout",
     "output_type": "stream",
     "text": [
      "Seçilen kişilerden en az birinin Ar-Ge Departman çalışanı arasından seçilmiş olma olasılığı: 0.4889344145525789\n"
     ]
    }
   ],
   "source": [
    "print(\"Seçilen kişilerden en az birinin Ar-Ge Departman çalışanı arasından seçilmiş olma olasılığı:\",1-(kombinasyon((p-f),s)/kombinasyon(p,s)))"
   ]
  }
 ],
 "metadata": {
  "kernelspec": {
   "display_name": "Python 3",
   "language": "python",
   "name": "python3"
  },
  "language_info": {
   "codemirror_mode": {
    "name": "ipython",
    "version": 3
   },
   "file_extension": ".py",
   "mimetype": "text/x-python",
   "name": "python",
   "nbconvert_exporter": "python",
   "pygments_lexer": "ipython3",
   "version": "3.7.1"
  }
 },
 "nbformat": 4,
 "nbformat_minor": 2
}
