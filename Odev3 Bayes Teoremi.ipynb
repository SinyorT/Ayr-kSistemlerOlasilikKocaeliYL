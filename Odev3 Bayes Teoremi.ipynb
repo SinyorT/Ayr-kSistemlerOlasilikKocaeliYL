{
 "cells": [
  {
   "cell_type": "markdown",
   "metadata": {},
   "source": [
    "# ÖDEV#3 BAYES ÖRNEĞİ SENARYOSU  - SİNEM SEÇGİN OLGUN 185172017"
   ]
  },
  {
   "cell_type": "markdown",
   "metadata": {},
   "source": [
    "## SORU : Boğaziçi Üniversitesinden mezun olup Yurt dışına yüksek lisans eğitimine gitmiş öğrencilerin %30'u Amerika, %50'si Avrupa %20'si ise Uzakdoğu ülkelerine yerleşmiştir. Amerikayı kazanan öğrencilerin %60'ını, Avrupayı kazanan öğrencilerin %50'sini, Uzakdoğuyu kazanan öğrencilerin ise %20'sini erkek öğrenciler oluşturmaktadır.\n",
    "\n",
    "### Öğrencilerin yer aldığı listeden seçilen bir öğrencinin Amerikaya yerleştiği bilindiğine göre bu öğrencinin erkek olma olasılığı nedir?\n"
   ]
  },
  {
   "cell_type": "markdown",
   "metadata": {},
   "source": [
    "### CEVAP: \"Amerika\" olayının gerçeklesmesi kosulu altında \"erkek öğrenci\" olayının olma olasılığı hesaplanacaktır."
   ]
  },
  {
   "cell_type": "code",
   "execution_count": 1,
   "metadata": {},
   "outputs": [
    {
     "name": "stdout",
     "output_type": "stream",
     "text": [
      "\n",
      " [0-100] aralığında değerler ile cevaplayınız. \n",
      "Amerikaya giden erkek ögrenci oranını giriniz.\n",
      "x=23\n",
      "Avrupaya giden erkek ögrenci  oranını giriniz.\n",
      "y=45\n",
      "Uzakdoguya giden erkek ögrenci  oranını giriniz.\n",
      "z=21\n",
      "Yüksek Lisansa Giden Öğrencinin Erkek olma olasılığı:  % 20.535714285714285\n"
     ]
    }
   ],
   "source": [
    "Amerika = 0.3\n",
    "Avrupa = 0.5\n",
    "Uzakdogu = 0.2\n",
    "#Ülkelere  yerleşen erkek öğrenci oranının kullanıcıdan istenmesi\n",
    "print(\"\\n [0-100] aralığında değerler ile cevaplayınız. \")\n",
    "\n",
    "x=int(input(\"Amerikaya giden erkek ögrenci oranını giriniz.\\nx=\"))/100\n",
    "y=int(input(\"Avrupaya giden erkek ögrenci  oranını giriniz.\\ny=\"))/100\n",
    "z=int(input(\"Uzakdoguya giden erkek ögrenci  oranını giriniz.\\nz=\"))/100\n",
    "\n",
    "AmaerikayaGidenErkekOranı = Amerika * x\n",
    "AvrupayaGidenErkekOranı = Avrupa * y\n",
    "UzakdoguyaGidenErkekOranı = Uzakdogu * z\n",
    "\n",
    "Hesapla = AmaerikayaGidenErkekOranı / (AmaerikayaGidenErkekOranı + AvrupayaGidenErkekOranı + UzakdoguyaGidenErkekOranı)\n",
    "print(\"Yüksek Lisansa Giden Öğrencinin Erkek olma olasılığı: \",'%',Hesapla*100)"
   ]
  },
  {
   "cell_type": "code",
   "execution_count": null,
   "metadata": {},
   "outputs": [],
   "source": []
  }
 ],
 "metadata": {
  "kernelspec": {
   "display_name": "Python 3",
   "language": "python",
   "name": "python3"
  },
  "language_info": {
   "codemirror_mode": {
    "name": "ipython",
    "version": 3
   },
   "file_extension": ".py",
   "mimetype": "text/x-python",
   "name": "python",
   "nbconvert_exporter": "python",
   "pygments_lexer": "ipython3",
   "version": "3.7.1"
  }
 },
 "nbformat": 4,
 "nbformat_minor": 2
}
